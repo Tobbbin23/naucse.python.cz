{
 "cells": [
  {
   "cell_type": "markdown",
   "metadata": {
    "slideshow": {
     "slide_type": "slide"
    }
   },
   "source": [
    "## SOUBORY, JSON, FLASK"
   ]
  },
  {
   "cell_type": "markdown",
   "metadata": {
    "slideshow": {
     "slide_type": "slide"
    }
   },
   "source": [
    "## SOUBORY"
   ]
  },
  {
   "cell_type": "markdown",
   "metadata": {
    "slideshow": {
     "slide_type": "fragment"
    }
   },
   "source": [
    "- vytvoř soubor `poem.py`\n",
    "- do něj napiš krátkou básničku"
   ]
  },
  {
   "cell_type": "code",
   "execution_count": 2,
   "metadata": {
    "slideshow": {
     "slide_type": "fragment"
    }
   },
   "outputs": [
    {
     "name": "stdout",
     "output_type": "stream",
     "text": [
      "basnicka\n",
      "druhy radek\n",
      "\n"
     ]
    }
   ],
   "source": [
    "file_ = open('poem.txt', encoding='utf-8')\n",
    "content = file_.read()\n",
    "file_.close()\n",
    "\n",
    "print(content)"
   ]
  },
  {
   "cell_type": "code",
   "execution_count": 4,
   "metadata": {
    "slideshow": {
     "slide_type": "subslide"
    }
   },
   "outputs": [
    {
     "name": "stdout",
     "output_type": "stream",
     "text": [
      "basnicka\n",
      "druhy radek\n",
      "\n"
     ]
    }
   ],
   "source": [
    "# automatické zavírání souborů pomocí `context manager`\n",
    "\n",
    "with open('poem.txt', encoding='utf-8') as file_:\n",
    "    content = file_.read()\n",
    "\n",
    "print(content)"
   ]
  },
  {
   "cell_type": "code",
   "execution_count": 6,
   "metadata": {
    "slideshow": {
     "slide_type": "subslide"
    }
   },
   "outputs": [
    {
     "name": "stdout",
     "output_type": "stream",
     "text": [
      "I heard this poem:\n",
      "\n",
      "    basnicka\n",
      "    druhy radek\n",
      "\n",
      "Do you like it?\n"
     ]
    }
   ],
   "source": [
    "# iterace nad soubory\n",
    "\n",
    "print('I heard this poem:')\n",
    "print()\n",
    "\n",
    "with open('poem.txt', encoding='utf-8') as file_:\n",
    "    for line in file_:\n",
    "        line = line.rstrip()\n",
    "        print('    ' + line)\n",
    "\n",
    "print()\n",
    "print('Do you like it?')"
   ]
  },
  {
   "cell_type": "code",
   "execution_count": 7,
   "metadata": {
    "slideshow": {
     "slide_type": "subslide"
    }
   },
   "outputs": [],
   "source": [
    "# psaní souborů\n",
    "\n",
    "with open('second-poem.txt', mode='w', encoding='utf-8') as file_:\n",
    "    print('Naše staré hodiny', file=file_)\n",
    "    print('Bijí', 2+2, 'hodiny', file=file_)"
   ]
  },
  {
   "cell_type": "code",
   "execution_count": 9,
   "metadata": {
    "slideshow": {
     "slide_type": "fragment"
    }
   },
   "outputs": [
    {
     "name": "stdout",
     "output_type": "stream",
     "text": [
      "Naše staré hodiny\n",
      "Bijí 4 hodiny\n",
      "\n"
     ]
    }
   ],
   "source": [
    "with open('second-poem.txt', encoding='utf-8') as file_:\n",
    "    content = file_.read()\n",
    "print(content)"
   ]
  },
  {
   "cell_type": "markdown",
   "metadata": {
    "slideshow": {
     "slide_type": "slide"
    }
   },
   "source": [
    "## JSON"
   ]
  },
  {
   "cell_type": "markdown",
   "metadata": {
    "slideshow": {
     "slide_type": "fragment"
    }
   },
   "source": [
    "- formát pro výměnu dat\n",
    "- programovácí jazyky se liší, ale mají společné základní typy: číslo, string, seznam, True/False atd.\n",
    "- pro přenos dat je nutné posílat JSON jako string"
   ]
  },
  {
   "cell_type": "code",
   "execution_count": 10,
   "metadata": {
    "slideshow": {
     "slide_type": "subslide"
    }
   },
   "outputs": [
    {
     "data": {
      "text/plain": [
       "{'name': 'Anna',\n",
       " 'city': 'Brno',\n",
       " 'language': ['czech', 'english', 'Python'],\n",
       " 'age': 26}"
      ]
     },
     "execution_count": 10,
     "metadata": {},
     "output_type": "execute_result"
    }
   ],
   "source": [
    "# python\n",
    "\n",
    "{\n",
    "    'name': 'Anna',\n",
    "    'city': 'Brno',\n",
    "    'language': ['czech', 'english', 'Python'],\n",
    "    'age': 26,\n",
    "}"
   ]
  },
  {
   "cell_type": "code",
   "execution_count": null,
   "metadata": {
    "slideshow": {
     "slide_type": "subslide"
    }
   },
   "outputs": [],
   "source": [
    "# YAML\n",
    "\n",
    "name: Anna\n",
    "city: Brno\n",
    "language:\n",
    "  - czech\n",
    "  - english\n",
    "  - Python\n",
    "age: 26"
   ]
  },
  {
   "cell_type": "code",
   "execution_count": null,
   "metadata": {
    "slideshow": {
     "slide_type": "subslide"
    }
   },
   "outputs": [],
   "source": [
    "# bencode\n",
    "\n",
    "d6:languagel9:czech11:english6:Pythone4:agei26e6:city4:Brno6:name4:Annae"
   ]
  },
  {
   "cell_type": "code",
   "execution_count": null,
   "metadata": {
    "slideshow": {
     "slide_type": "subslide"
    }
   },
   "outputs": [],
   "source": [
    "# json\n",
    "\n",
    "{\n",
    "  \"name\": \"Anna\",\n",
    "  \"city\": \"Brno\",\n",
    "  \"language\": [\"czech\", \"english\", \"Python\"],\n",
    "  \"age\": 26\n",
    "}"
   ]
  },
  {
   "cell_type": "code",
   "execution_count": 14,
   "metadata": {
    "slideshow": {
     "slide_type": "subslide"
    }
   },
   "outputs": [
    {
     "name": "stdout",
     "output_type": "stream",
     "text": [
      "{'name': 'Anna', 'city': 'Brno', 'language': ['czech', 'english', 'Python'], 'age': 26}\n",
      "Brno\n"
     ]
    }
   ],
   "source": [
    "# JSON v pythonu\n",
    "\n",
    "import json\n",
    "\n",
    "json_retezec = \"\"\"\n",
    "    {\n",
    "      \"name\": \"Anna\",\n",
    "      \"city\": \"Brno\",\n",
    "      \"language\": [\"czech\", \"english\", \"Python\"],\n",
    "      \"age\": 26\n",
    "    }\n",
    "\"\"\"\n",
    "data = json.loads(json_retezec)\n",
    "print(data)\n",
    "print(data['city'])"
   ]
  },
  {
   "cell_type": "code",
   "execution_count": 13,
   "metadata": {
    "scrolled": true,
    "slideshow": {
     "slide_type": "fragment"
    }
   },
   "outputs": [
    {
     "name": "stdout",
     "output_type": "stream",
     "text": [
      "{\n",
      "  \"name\": \"Anna\",\n",
      "  \"city\": \"Brno\",\n",
      "  \"language\": [\n",
      "    \"czech\",\n",
      "    \"english\",\n",
      "    \"Python\"\n",
      "  ],\n",
      "  \"age\": 26\n",
      "}\n"
     ]
    }
   ],
   "source": [
    "print(json.dumps(data, ensure_ascii=False, indent=2))"
   ]
  },
  {
   "cell_type": "markdown",
   "metadata": {
    "slideshow": {
     "slide_type": "slide"
    }
   },
   "source": [
    "## FLASK"
   ]
  },
  {
   "cell_type": "markdown",
   "metadata": {
    "slideshow": {
     "slide_type": "fragment"
    }
   },
   "source": [
    "- framework pro tvorbu webových aplikací"
   ]
  },
  {
   "cell_type": "markdown",
   "metadata": {
    "slideshow": {
     "slide_type": "subslide"
    }
   },
   "source": [
    "- nový soubor `hello.py`"
   ]
  },
  {
   "cell_type": "code",
   "execution_count": null,
   "metadata": {
    "slideshow": {
     "slide_type": "fragment"
    }
   },
   "outputs": [],
   "source": [
    "from flask import Flask\n",
    "\n",
    "app = Flask(__name__)\n",
    "\n",
    "\n",
    "@app.route('/')\n",
    "def index():\n",
    "    \"\"\"Tato funce se zavolá, když uživatel přijde\n",
    "    na domovskou stránku naší aplikace.\n",
    "    Vrátí řetězec, který se zobrazí v prohlížeči.\n",
    "    \"\"\"\n",
    "    return 'Ahoj Pyladies!'\n",
    "\n",
    "\n",
    "if __name__ == \"__main__\":\n",
    "    # spustí aplikaci\n",
    "    app.run()"
   ]
  },
  {
   "cell_type": "markdown",
   "metadata": {
    "slideshow": {
     "slide_type": "fragment"
    }
   },
   "source": [
    "- spusť pomocí `python hello.py`"
   ]
  },
  {
   "cell_type": "markdown",
   "metadata": {
    "slideshow": {
     "slide_type": "subslide"
    }
   },
   "source": [
    "- V programu jsme jako `app` vytvořili flaskovou aplikaci. \n",
    "- Argument `__name__` je jméno modulu – Flask podle něj hledá soubory, které k aplikaci patří.\n",
    "- Pomocí dekorátoru `@app.route` jsme zaregistrovali takzvaný view (pohled) – funkci, která vrací obsah pro danou cestu v URL. \n",
    "- Tomuto spojení cesty a pohledové funkce se říká route (nebo počeštěně „routa“). My konkrétně říkáme, že na cestě / (tedy na „domovské stránce“) bude k dispozici obsah, který vrátí funkce index."
   ]
  },
  {
   "cell_type": "markdown",
   "metadata": {
    "slideshow": {
     "slide_type": "subslide"
    }
   },
   "source": [
    "### Ladící režim"
   ]
  },
  {
   "cell_type": "code",
   "execution_count": null,
   "metadata": {
    "slideshow": {
     "slide_type": "subslide"
    }
   },
   "outputs": [],
   "source": [
    "...\n",
    "app = Flask(__name__)\n",
    "app.config['DEBUG'] = True\n",
    "\n",
    "\n",
    "@app.route('/')\n",
    "..."
   ]
  },
  {
   "cell_type": "markdown",
   "metadata": {
    "slideshow": {
     "slide_type": "subslide"
    }
   },
   "source": [
    "- Zkuste ve funkci hello() vyvolat výjimku (například dělení nulou – 1/0) a podívat se, jak chyba v ladícím režimu „vypadá“.\n",
    "- Flask ukáže traceback podobný tomu z příkazové řádky a na každé úrovni umožní pomocí malé ikonky spustit konzoli. \n",
    "- Bezpečnostní PIN k této konzoli najdete v terminálu, kde server běží.\n"
   ]
  },
  {
   "cell_type": "markdown",
   "metadata": {
    "slideshow": {
     "slide_type": "subslide"
    }
   },
   "source": [
    "### Dynamické routy"
   ]
  },
  {
   "cell_type": "markdown",
   "metadata": {
    "slideshow": {
     "slide_type": "fragment"
    }
   },
   "source": [
    "- Když vytváříte dynamický web, ne vždy můžete všechna URL znát dopředu. \n",
    "- Budete například chtít zobrazit informace o uživatelích na adresách jako /user/pylady/."
   ]
  },
  {
   "cell_type": "code",
   "execution_count": null,
   "metadata": {
    "slideshow": {
     "slide_type": "subslide"
    }
   },
   "outputs": [],
   "source": [
    "@app.route('/user/<username>/')\n",
    "def profile(username):\n",
    "    return 'User {}'.format(username)"
   ]
  },
  {
   "cell_type": "markdown",
   "metadata": {
    "slideshow": {
     "slide_type": "fragment"
    }
   },
   "source": [
    "- Proměnnou část cesty ohraničíte lomenými závorkami\n",
    "- Pokud chcete, můžete specifikovat, na jaký obsah se pravidlo vztahuje. \n",
    "- Například číselný idenifikátor článku pro adresy jako /post/42/ můžete zadat takto:"
   ]
  },
  {
   "cell_type": "code",
   "execution_count": null,
   "metadata": {
    "slideshow": {
     "slide_type": "fragment"
    }
   },
   "outputs": [],
   "source": [
    "@app.route('/post/<int:post_id>/')"
   ]
  },
  {
   "cell_type": "code",
   "execution_count": 19,
   "metadata": {
    "slideshow": {
     "slide_type": "subslide"
    }
   },
   "outputs": [],
   "source": [
    "# více rout pro jednu funkci\n",
    "# často se to používá s výchozí hodnotou argumentu\n",
    "\n",
    "@app.route('/hello/')\n",
    "@app.route('/hello/<name>/')\n",
    "def hello(name='world'):\n",
    "    return 'Hello, {}!'.format(name)"
   ]
  },
  {
   "cell_type": "markdown",
   "metadata": {
    "slideshow": {
     "slide_type": "subslide"
    }
   },
   "source": [
    "### Získání URL"
   ]
  },
  {
   "cell_type": "markdown",
   "metadata": {
    "slideshow": {
     "slide_type": "fragment"
    }
   },
   "source": [
    "- Opačným způsobem jak k routám přistupovat.\n",
    "- Když potřebujete získat URL nějaké stránky, například protože potřebujete zobrazit odkaz. "
   ]
  },
  {
   "cell_type": "code",
   "execution_count": null,
   "metadata": {
    "slideshow": {
     "slide_type": "subslide"
    }
   },
   "outputs": [],
   "source": [
    "from flask import url_for\n",
    "\n",
    "...\n",
    "\n",
    "@app.route('/url/')\n",
    "def show_url():\n",
    "    return url_for('profile', username='pylady')"
   ]
  },
  {
   "cell_type": "markdown",
   "metadata": {
    "slideshow": {
     "slide_type": "subslide"
    }
   },
   "source": [
    "### Šablony"
   ]
  },
  {
   "cell_type": "code",
   "execution_count": null,
   "metadata": {
    "slideshow": {
     "slide_type": "subslide"
    }
   },
   "outputs": [],
   "source": [
    "from flask import render_template\n",
    "\n",
    "@app.route('/hello/')\n",
    "@app.route('/hello/<name>/')\n",
    "def hello(name=None):\n",
    "    return render_template('hello.html', name=name)"
   ]
  },
  {
   "cell_type": "markdown",
   "metadata": {
    "slideshow": {
     "slide_type": "subslide"
    }
   },
   "source": [
    "- vedle souboru s kódem vytvořte složku templates a v ní `hello.html` s tímto obsahem:"
   ]
  },
  {
   "cell_type": "code",
   "execution_count": null,
   "metadata": {
    "slideshow": {
     "slide_type": "fragment"
    }
   },
   "outputs": [],
   "source": [
    "<!doctype html>\n",
    "<html>\n",
    "    <head>\n",
    "        <title>Hello from Flask</title>\n",
    "    </head>\n",
    "    <body>\n",
    "        {% if name %}\n",
    "            <h1>Hello {{ name }}!</h1>\n",
    "            <a href=\"{{ url_for('hello') }}\">Go back home</a>\n",
    "        {% else %}\n",
    "            <h1>Hello, World!</h1>\n",
    "        {% endif %}\n",
    "    </body>\n",
    "</html>"
   ]
  },
  {
   "cell_type": "markdown",
   "metadata": {
    "slideshow": {
     "slide_type": "subslide"
    }
   },
   "source": [
    "### Statické soubory"
   ]
  },
  {
   "cell_type": "markdown",
   "metadata": {
    "slideshow": {
     "slide_type": "subslide"
    }
   },
   "source": [
    "- styly CSS nebo obrázky dejte je do adresáře `static` vedle souboru s kódem a přistupujte k nim pomocí routy `static`."
   ]
  },
  {
   "cell_type": "code",
   "execution_count": null,
   "metadata": {
    "slideshow": {
     "slide_type": "fragment"
    }
   },
   "outputs": [],
   "source": [
    "url_for('static', filename='style.css')"
   ]
  },
  {
   "cell_type": "code",
   "execution_count": null,
   "metadata": {},
   "outputs": [],
   "source": [
    "<link href=\"{{ url_for('static', filename='style.css') }}\" rel=\"stylesheet\">"
   ]
  }
 ],
 "metadata": {
  "celltoolbar": "Slideshow",
  "kernelspec": {
   "display_name": "Python 3",
   "language": "python",
   "name": "python3"
  },
  "language_info": {
   "codemirror_mode": {
    "name": "ipython",
    "version": 3
   },
   "file_extension": ".py",
   "mimetype": "text/x-python",
   "name": "python",
   "nbconvert_exporter": "python",
   "pygments_lexer": "ipython3",
   "version": "3.7.3"
  },
  "rise": {
   "scroll": true
  }
 },
 "nbformat": 4,
 "nbformat_minor": 2
}
